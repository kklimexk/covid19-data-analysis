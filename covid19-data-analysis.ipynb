{
 "cells": [
  {
   "cell_type": "markdown",
   "metadata": {},
   "source": [
    "# COVID-19 Data Analysis"
   ]
  },
  {
   "cell_type": "markdown",
   "metadata": {},
   "source": [
    "## COVID-19 Data\n",
    "\n",
    "1. https://github.com/CSSEGISandData/COVID-19\n",
    "2. https://github.com/covid19-eu-zh/covid19-eu-data"
   ]
  },
  {
   "cell_type": "markdown",
   "metadata": {},
   "source": [
    "## Useful resources\n",
    "\n",
    "1. https://coronavirus.jhu.edu/map.html\n",
    "2. https://docs.conda.io/projects/conda/en/latest/_downloads/843d9e0198f2a193a3484886fa28163c/conda-cheatsheet.pdf\n",
    "3. https://pandas.pydata.org/Pandas_Cheat_Sheet.pdf"
   ]
  },
  {
   "cell_type": "markdown",
   "metadata": {},
   "source": [
    "## Install pandas"
   ]
  },
  {
   "cell_type": "code",
   "execution_count": 1,
   "metadata": {},
   "outputs": [],
   "source": [
    "#%pip install --upgrade pandas"
   ]
  },
  {
   "cell_type": "markdown",
   "metadata": {},
   "source": [
    "<img src=\"images/pandas.jpg\" />"
   ]
  },
  {
   "cell_type": "code",
   "execution_count": 2,
   "metadata": {},
   "outputs": [
    {
     "data": {
      "text/plain": [
       "'1.1.4'"
      ]
     },
     "execution_count": 2,
     "metadata": {},
     "output_type": "execute_result"
    }
   ],
   "source": [
    "import pandas as pd\n",
    "pd.__version__"
   ]
  },
  {
   "cell_type": "markdown",
   "metadata": {},
   "source": [
    "## COVID-19 Data Analysis (World / per Country)"
   ]
  },
  {
   "cell_type": "code",
   "execution_count": 3,
   "metadata": {},
   "outputs": [],
   "source": [
    "CONFIRMED = 'https://raw.githubusercontent.com/CSSEGISandData/COVID-19/master/csse_covid_19_data/csse_covid_19_time_series/time_series_covid19_confirmed_global.csv'\n",
    "DEATHS = 'https://raw.githubusercontent.com/CSSEGISandData/COVID-19/master/csse_covid_19_data/csse_covid_19_time_series/time_series_covid19_deaths_global.csv'\n",
    "RECOVERED = 'https://raw.githubusercontent.com/CSSEGISandData/COVID-19/master/csse_covid_19_data/csse_covid_19_time_series/time_series_covid19_recovered_global.csv'"
   ]
  },
  {
   "cell_type": "code",
   "execution_count": 4,
   "metadata": {},
   "outputs": [],
   "source": [
    "confirmed = pd.read_csv(CONFIRMED)\n",
    "deaths = pd.read_csv(DEATHS)\n",
    "recovered = pd.read_csv(RECOVERED)"
   ]
  },
  {
   "cell_type": "code",
   "execution_count": 5,
   "metadata": {},
   "outputs": [
    {
     "data": {
      "text/plain": [
       "(271, 344)"
      ]
     },
     "execution_count": 5,
     "metadata": {},
     "output_type": "execute_result"
    }
   ],
   "source": [
    "confirmed.shape"
   ]
  },
  {
   "cell_type": "code",
   "execution_count": 6,
   "metadata": {},
   "outputs": [
    {
     "data": {
      "text/html": [
       "<div>\n",
       "<style scoped>\n",
       "    .dataframe tbody tr th:only-of-type {\n",
       "        vertical-align: middle;\n",
       "    }\n",
       "\n",
       "    .dataframe tbody tr th {\n",
       "        vertical-align: top;\n",
       "    }\n",
       "\n",
       "    .dataframe thead th {\n",
       "        text-align: right;\n",
       "    }\n",
       "</style>\n",
       "<table border=\"1\" class=\"dataframe\">\n",
       "  <thead>\n",
       "    <tr style=\"text-align: right;\">\n",
       "      <th></th>\n",
       "      <th>Province/State</th>\n",
       "      <th>Country/Region</th>\n",
       "      <th>Lat</th>\n",
       "      <th>Long</th>\n",
       "      <th>1/22/20</th>\n",
       "      <th>1/23/20</th>\n",
       "      <th>1/24/20</th>\n",
       "      <th>1/25/20</th>\n",
       "      <th>1/26/20</th>\n",
       "      <th>1/27/20</th>\n",
       "      <th>...</th>\n",
       "      <th>12/17/20</th>\n",
       "      <th>12/18/20</th>\n",
       "      <th>12/19/20</th>\n",
       "      <th>12/20/20</th>\n",
       "      <th>12/21/20</th>\n",
       "      <th>12/22/20</th>\n",
       "      <th>12/23/20</th>\n",
       "      <th>12/24/20</th>\n",
       "      <th>12/25/20</th>\n",
       "      <th>12/26/20</th>\n",
       "    </tr>\n",
       "  </thead>\n",
       "  <tbody>\n",
       "    <tr>\n",
       "      <th>207</th>\n",
       "      <td>NaN</td>\n",
       "      <td>Poland</td>\n",
       "      <td>51.9194</td>\n",
       "      <td>19.1451</td>\n",
       "      <td>0</td>\n",
       "      <td>0</td>\n",
       "      <td>0</td>\n",
       "      <td>0</td>\n",
       "      <td>0</td>\n",
       "      <td>0</td>\n",
       "      <td>...</td>\n",
       "      <td>1171854</td>\n",
       "      <td>1182864</td>\n",
       "      <td>1194110</td>\n",
       "      <td>1202700</td>\n",
       "      <td>1207333</td>\n",
       "      <td>1214525</td>\n",
       "      <td>1226883</td>\n",
       "      <td>1239998</td>\n",
       "      <td>1249079</td>\n",
       "      <td>1253957</td>\n",
       "    </tr>\n",
       "    <tr>\n",
       "      <th>249</th>\n",
       "      <td>NaN</td>\n",
       "      <td>Ukraine</td>\n",
       "      <td>48.3794</td>\n",
       "      <td>31.1656</td>\n",
       "      <td>0</td>\n",
       "      <td>0</td>\n",
       "      <td>0</td>\n",
       "      <td>0</td>\n",
       "      <td>0</td>\n",
       "      <td>0</td>\n",
       "      <td>...</td>\n",
       "      <td>957692</td>\n",
       "      <td>970758</td>\n",
       "      <td>982937</td>\n",
       "      <td>991700</td>\n",
       "      <td>998678</td>\n",
       "      <td>1007627</td>\n",
       "      <td>1018199</td>\n",
       "      <td>1030125</td>\n",
       "      <td>1041583</td>\n",
       "      <td>1049717</td>\n",
       "    </tr>\n",
       "  </tbody>\n",
       "</table>\n",
       "<p>2 rows × 344 columns</p>\n",
       "</div>"
      ],
      "text/plain": [
       "    Province/State Country/Region      Lat     Long  1/22/20  1/23/20  \\\n",
       "207            NaN         Poland  51.9194  19.1451        0        0   \n",
       "249            NaN        Ukraine  48.3794  31.1656        0        0   \n",
       "\n",
       "     1/24/20  1/25/20  1/26/20  1/27/20  ...  12/17/20  12/18/20  12/19/20  \\\n",
       "207        0        0        0        0  ...   1171854   1182864   1194110   \n",
       "249        0        0        0        0  ...    957692    970758    982937   \n",
       "\n",
       "     12/20/20  12/21/20  12/22/20  12/23/20  12/24/20  12/25/20  12/26/20  \n",
       "207   1202700   1207333   1214525   1226883   1239998   1249079   1253957  \n",
       "249    991700    998678   1007627   1018199   1030125   1041583   1049717  \n",
       "\n",
       "[2 rows x 344 columns]"
      ]
     },
     "execution_count": 6,
     "metadata": {},
     "output_type": "execute_result"
    }
   ],
   "source": [
    "q = (confirmed['Country/Region'] == 'Poland') | (confirmed['Country/Region'] == 'Ukraine')\n",
    "confirmed.loc[q]"
   ]
  },
  {
   "cell_type": "code",
   "execution_count": 7,
   "metadata": {},
   "outputs": [
    {
     "data": {
      "text/html": [
       "<div>\n",
       "<style scoped>\n",
       "    .dataframe tbody tr th:only-of-type {\n",
       "        vertical-align: middle;\n",
       "    }\n",
       "\n",
       "    .dataframe tbody tr th {\n",
       "        vertical-align: top;\n",
       "    }\n",
       "\n",
       "    .dataframe thead th {\n",
       "        text-align: right;\n",
       "    }\n",
       "</style>\n",
       "<table border=\"1\" class=\"dataframe\">\n",
       "  <thead>\n",
       "    <tr style=\"text-align: right;\">\n",
       "      <th></th>\n",
       "      <th>Country/Region</th>\n",
       "      <th>12/26/20</th>\n",
       "    </tr>\n",
       "  </thead>\n",
       "  <tbody>\n",
       "    <tr>\n",
       "      <th>177</th>\n",
       "      <td>US</td>\n",
       "      <td>18982634</td>\n",
       "    </tr>\n",
       "    <tr>\n",
       "      <th>79</th>\n",
       "      <td>India</td>\n",
       "      <td>10187850</td>\n",
       "    </tr>\n",
       "    <tr>\n",
       "      <th>23</th>\n",
       "      <td>Brazil</td>\n",
       "      <td>7465806</td>\n",
       "    </tr>\n",
       "    <tr>\n",
       "      <th>141</th>\n",
       "      <td>Russia</td>\n",
       "      <td>2992123</td>\n",
       "    </tr>\n",
       "    <tr>\n",
       "      <th>62</th>\n",
       "      <td>France</td>\n",
       "      <td>2607688</td>\n",
       "    </tr>\n",
       "  </tbody>\n",
       "</table>\n",
       "</div>"
      ],
      "text/plain": [
       "    Country/Region  12/26/20\n",
       "177             US  18982634\n",
       "79           India  10187850\n",
       "23          Brazil   7465806\n",
       "141         Russia   2992123\n",
       "62          France   2607688"
      ]
     },
     "execution_count": 7,
     "metadata": {},
     "output_type": "execute_result"
    }
   ],
   "source": [
    "confirmed_grouped = confirmed.drop(['Province/State', 'Lat', 'Long'], 1).groupby('Country/Region')\n",
    "recovered_grouped = recovered.drop(['Province/State', 'Lat', 'Long'], 1).groupby('Country/Region')\n",
    "deaths_grouped = deaths.drop(['Province/State', 'Lat', 'Long'], 1).groupby('Country/Region')\n",
    "\n",
    "total_confirmed = confirmed_grouped.sum().iloc[:,[-1]].reset_index()\n",
    "total_recovered = recovered_grouped.sum().iloc[:,[-1]].reset_index()\n",
    "total_deaths = deaths_grouped.sum().iloc[:,[-1]].reset_index()\n",
    "\n",
    "#q2 = last_deaths.iloc[:,[-1]].idxmax()\n",
    "#last_deaths.loc[q2]\n",
    "\n",
    "total_confirmed.sort_values(total_confirmed.columns[-1],ascending=False).head(5)"
   ]
  },
  {
   "cell_type": "code",
   "execution_count": 8,
   "metadata": {},
   "outputs": [],
   "source": [
    "def _covid19_stats_for(country, name, data):\n",
    "    if country:\n",
    "        query = data['Country/Region'] == country\n",
    "        data = data.loc[query]\n",
    "        \n",
    "    data = (data\n",
    "          .transpose()[4:]\n",
    "          .sum(axis='columns')\n",
    "          .map(int))\n",
    "    \n",
    "    return pd.DataFrame(\n",
    "        data = data,\n",
    "        columns = [name],\n",
    "        index = pd.to_datetime(data.index)\n",
    "    )\n",
    "\n",
    "\n",
    "def covid19_stats_for(country=None):\n",
    "    return pd.concat((\n",
    "        _covid19_stats_for(country, 'Confirmed', confirmed),\n",
    "        _covid19_stats_for(country, 'Deaths', deaths),\n",
    "        _covid19_stats_for(country, 'Recovered', recovered)\n",
    "    ), axis='columns')    "
   ]
  },
  {
   "cell_type": "code",
   "execution_count": 9,
   "metadata": {},
   "outputs": [],
   "source": [
    "def death_rate(df):\n",
    "    return (df.tail(1)['Deaths'] / df.tail(1)['Confirmed']) * 100\n",
    "\n",
    "def recovered_rate(df):\n",
    "    return (df.tail(1)['Recovered'] / df.tail(1)['Confirmed']) * 100"
   ]
  },
  {
   "cell_type": "code",
   "execution_count": 10,
   "metadata": {},
   "outputs": [
    {
     "data": {
      "text/html": [
       "<div>\n",
       "<style scoped>\n",
       "    .dataframe tbody tr th:only-of-type {\n",
       "        vertical-align: middle;\n",
       "    }\n",
       "\n",
       "    .dataframe tbody tr th {\n",
       "        vertical-align: top;\n",
       "    }\n",
       "\n",
       "    .dataframe thead th {\n",
       "        text-align: right;\n",
       "    }\n",
       "</style>\n",
       "<table border=\"1\" class=\"dataframe\">\n",
       "  <thead>\n",
       "    <tr style=\"text-align: right;\">\n",
       "      <th></th>\n",
       "      <th>Confirmed</th>\n",
       "      <th>Deaths</th>\n",
       "      <th>Recovered</th>\n",
       "    </tr>\n",
       "  </thead>\n",
       "  <tbody>\n",
       "    <tr>\n",
       "      <th>2020-01-22</th>\n",
       "      <td>0</td>\n",
       "      <td>0</td>\n",
       "      <td>0</td>\n",
       "    </tr>\n",
       "    <tr>\n",
       "      <th>2020-01-23</th>\n",
       "      <td>0</td>\n",
       "      <td>0</td>\n",
       "      <td>0</td>\n",
       "    </tr>\n",
       "    <tr>\n",
       "      <th>2020-01-24</th>\n",
       "      <td>0</td>\n",
       "      <td>0</td>\n",
       "      <td>0</td>\n",
       "    </tr>\n",
       "    <tr>\n",
       "      <th>2020-01-25</th>\n",
       "      <td>0</td>\n",
       "      <td>0</td>\n",
       "      <td>0</td>\n",
       "    </tr>\n",
       "    <tr>\n",
       "      <th>2020-01-26</th>\n",
       "      <td>0</td>\n",
       "      <td>0</td>\n",
       "      <td>0</td>\n",
       "    </tr>\n",
       "    <tr>\n",
       "      <th>...</th>\n",
       "      <td>...</td>\n",
       "      <td>...</td>\n",
       "      <td>...</td>\n",
       "    </tr>\n",
       "    <tr>\n",
       "      <th>2020-12-22</th>\n",
       "      <td>1214525</td>\n",
       "      <td>25783</td>\n",
       "      <td>954272</td>\n",
       "    </tr>\n",
       "    <tr>\n",
       "      <th>2020-12-23</th>\n",
       "      <td>1226883</td>\n",
       "      <td>26255</td>\n",
       "      <td>965178</td>\n",
       "    </tr>\n",
       "    <tr>\n",
       "      <th>2020-12-24</th>\n",
       "      <td>1239998</td>\n",
       "      <td>26752</td>\n",
       "      <td>975876</td>\n",
       "    </tr>\n",
       "    <tr>\n",
       "      <th>2020-12-25</th>\n",
       "      <td>1249079</td>\n",
       "      <td>26992</td>\n",
       "      <td>984683</td>\n",
       "    </tr>\n",
       "    <tr>\n",
       "      <th>2020-12-26</th>\n",
       "      <td>1253957</td>\n",
       "      <td>27061</td>\n",
       "      <td>992381</td>\n",
       "    </tr>\n",
       "  </tbody>\n",
       "</table>\n",
       "<p>340 rows × 3 columns</p>\n",
       "</div>"
      ],
      "text/plain": [
       "            Confirmed  Deaths  Recovered\n",
       "2020-01-22          0       0          0\n",
       "2020-01-23          0       0          0\n",
       "2020-01-24          0       0          0\n",
       "2020-01-25          0       0          0\n",
       "2020-01-26          0       0          0\n",
       "...               ...     ...        ...\n",
       "2020-12-22    1214525   25783     954272\n",
       "2020-12-23    1226883   26255     965178\n",
       "2020-12-24    1239998   26752     975876\n",
       "2020-12-25    1249079   26992     984683\n",
       "2020-12-26    1253957   27061     992381\n",
       "\n",
       "[340 rows x 3 columns]"
      ]
     },
     "execution_count": 10,
     "metadata": {},
     "output_type": "execute_result"
    }
   ],
   "source": [
    "df = covid19_stats_for('Poland')\n",
    "#death_rate(df)\n",
    "df"
   ]
  },
  {
   "cell_type": "code",
   "execution_count": 11,
   "metadata": {},
   "outputs": [
    {
     "data": {
      "text/plain": [
       "<matplotlib.axes._subplots.AxesSubplot at 0x7f8b817e0280>"
      ]
     },
     "execution_count": 11,
     "metadata": {},
     "output_type": "execute_result"
    },
    {
     "data": {
      "image/png": "[encoded data removed]",
      "text/plain": [
       "<Figure size 720x360 with 1 Axes>"
      ]
     },
     "metadata": {
      "needs_background": "light"
     },
     "output_type": "display_data"
    }
   ],
   "source": [
    "df.plot(subplots=False, sharey=True, sharex=True, figsize=(10,5))"
   ]
  },
  {
   "cell_type": "code",
   "execution_count": 12,
   "metadata": {},
   "outputs": [
    {
     "data": {
      "text/plain": [
       "<matplotlib.axes._subplots.AxesSubplot at 0x7f8b7ea46fd0>"
      ]
     },
     "execution_count": 12,
     "metadata": {},
     "output_type": "execute_result"
    },
    {
     "data": {
      "image/png": "[encoded data removed]",
      "text/plain": [
       "<Figure size 432x288 with 1 Axes>"
      ]
     },
     "metadata": {
      "needs_background": "light"
     },
     "output_type": "display_data"
    }
   ],
   "source": [
    "c = df['Confirmed']\n",
    "r = df['Recovered']\n",
    "\n",
    "#r.index -= pd.Timedelta(days=20)\n",
    "\n",
    "cr = pd.concat((\n",
    "    c['2020-03-04':],\n",
    "    r['2020-03-04':]\n",
    "), axis='columns')\n",
    "\n",
    "cr.plot()"
   ]
  },
  {
   "cell_type": "code",
   "execution_count": 13,
   "metadata": {},
   "outputs": [],
   "source": [
    "c = c['2020-03-04':]\n",
    "r = r['2020-03-04':]"
   ]
  },
  {
   "cell_type": "code",
   "execution_count": 14,
   "metadata": {},
   "outputs": [
    {
     "data": {
      "text/plain": [
       "<matplotlib.axes._subplots.AxesSubplot at 0x7f8b7e98abe0>"
      ]
     },
     "execution_count": 14,
     "metadata": {},
     "output_type": "execute_result"
    },
    {
     "data": {
      "image/png": "[encoded data removed]",
      "text/plain": [
       "<Figure size 720x360 with 1 Axes>"
      ]
     },
     "metadata": {
      "needs_background": "light"
     },
     "output_type": "display_data"
    }
   ],
   "source": [
    "(c / r).plot(figsize=(10,5))"
   ]
  },
  {
   "cell_type": "code",
   "execution_count": 80,
   "metadata": {},
   "outputs": [
    {
     "data": {
      "text/plain": [
       "1.8994078883463832"
      ]
     },
     "execution_count": 80,
     "metadata": {},
     "output_type": "execute_result"
    }
   ],
   "source": [
    "(c/r).m()"
   ]
  },
  {
   "cell_type": "code",
   "execution_count": 16,
   "metadata": {},
   "outputs": [
    {
     "data": {
      "image/png": "[encoded data removed]",
      "text/plain": [
       "<Figure size 432x288 with 1 Axes>"
      ]
     },
     "metadata": {
      "needs_background": "light"
     },
     "output_type": "display_data"
    }
   ],
   "source": [
    "import matplotlib.pyplot as plt\n",
    "import numpy as np\n",
    "\n",
    "x = c[:len(r)]\n",
    "y = r\n",
    "\n",
    "model = np.polyfit(x, y, 1)\n",
    "trend = np.poly1d(model)\n",
    "\n",
    "plt.title('Confirmed, Recovered ratio')\n",
    "plt.plot(x, y, label='data')\n",
    "plt.plot(x, trend(x), color='red', linestyle='--', label='trend')\n",
    "plt.show()"
   ]
  },
  {
   "cell_type": "markdown",
   "metadata": {},
   "source": [
    "# Covid-19 Week analysis"
   ]
  },
  {
   "cell_type": "code",
   "execution_count": 75,
   "metadata": {},
   "outputs": [
    {
     "data": {
      "text/plain": [
       "<matplotlib.axes._subplots.AxesSubplot at 0x7f8b716a5520>"
      ]
     },
     "execution_count": 75,
     "metadata": {},
     "output_type": "execute_result"
    },
    {
     "data": {
      "image/png": "[encoded data removed]",
      "text/plain": [
       "<Figure size 432x288 with 1 Axes>"
      ]
     },
     "metadata": {
      "needs_background": "light"
     },
     "output_type": "display_data"
    }
   ],
   "source": [
    "#c['2020-05-12':'2020-05-18'].diff().plot(kind='bar')\n",
    "#c['2020-06-09':'2020-06-15'].diff().plot(kind='bar')\n",
    "#c['2020-06-23':'2020-06-29'].diff().plot(kind='bar') # presidential elections\n",
    "#c['2020-09-15':'2020-09-21'].diff().plot(kind='bar')\n",
    "#c['2020-10-06':'2020-10-12'].diff().plot(kind='bar')\n",
    "#c['2020-10-13':'2020-10-19'].diff().plot(kind='bar')\n",
    "#c['2020-11-17':'2020-11-23'].diff().plot(kind='bar')\n",
    "#c['2020-12-15':'2020-12-21'].diff().plot(kind='bar')\n",
    "\n",
    "c['2020-12-01':'2020-12-30'].diff().plot(kind='bar')"
   ]
  },
  {
   "cell_type": "code",
   "execution_count": 76,
   "metadata": {},
   "outputs": [
    {
     "data": {
      "text/plain": [
       "<matplotlib.axes._subplots.AxesSubplot at 0x7f8b71592d90>"
      ]
     },
     "execution_count": 76,
     "metadata": {},
     "output_type": "execute_result"
    },
    {
     "data": {
      "image/png": "[encoded data removed]",
      "text/plain": [
       "<Figure size 432x288 with 1 Axes>"
      ]
     },
     "metadata": {
      "needs_background": "light"
     },
     "output_type": "display_data"
    }
   ],
   "source": [
    "c['2020-12-15':'2020-12-21'].diff().plot(kind='bar')"
   ]
  },
  {
   "cell_type": "markdown",
   "metadata": {},
   "source": [
    "## Linear Regression (Supervised Learning algorithm)"
   ]
  },
  {
   "cell_type": "markdown",
   "metadata": {},
   "source": [
    "<img src=\"images/traditional_programming_vs_ML.png\" width='500px' />"
   ]
  },
  {
   "cell_type": "markdown",
   "metadata": {},
   "source": [
    "Goal: Find the best line fit\n",
    "\n",
    "**y = a*x + b**\n",
    "\n",
    "- **a**: slope. Meaning how much the y value increases for each x value.\n",
    "- **b**: y intercept. Where the line crosses the y axis.\n",
    "- **x**: feature\n",
    "- **y**: label\n",
    "\n",
    "a = (y2 - y1) / (x2 - x1)"
   ]
  },
  {
   "cell_type": "markdown",
   "metadata": {},
   "source": [
    "<img src=\"images/linear_regression.png\" />"
   ]
  },
  {
   "cell_type": "markdown",
   "metadata": {},
   "source": [
    "## COVID-19 Number of deaths prediction based on number of confirmed cases"
   ]
  },
  {
   "cell_type": "code",
   "execution_count": 17,
   "metadata": {},
   "outputs": [],
   "source": [
    "train_df = df['2020-03-04':'2020-08-01'].rename_axis('Date').reset_index()\n",
    "test_df = df['2020-08-02':].rename_axis('Date').reset_index()\n",
    "\n",
    "x_train = train_df[[\"Confirmed\"]]\n",
    "y_train = train_df[\"Deaths\"]\n",
    "\n",
    "x_test = test_df[[\"Confirmed\"]]\n",
    "y_test = test_df[\"Deaths\"]"
   ]
  },
  {
   "cell_type": "code",
   "execution_count": 18,
   "metadata": {},
   "outputs": [
    {
     "name": "stdout",
     "output_type": "stream",
     "text": [
      "Accuracy: \n",
      " -1.8047515744372444\n",
      "Coefficient(a): \n",
      " [0.04112983]\n",
      "Intercept(b): \n",
      " 26.064105895494663\n",
      "y = 0.0411*confirmed_cases + (26.0641)\n"
     ]
    }
   ],
   "source": [
    "from sklearn.linear_model import LinearRegression\n",
    "\n",
    "lr = LinearRegression().fit(x_train, y_train)\n",
    "acc = lr.score(x_test, y_test)\n",
    "print('Accuracy: \\n', acc)\n",
    "\n",
    "print('Coefficient(a): \\n', lr.coef_)\n",
    "print('Intercept(b): \\n', lr.intercept_)\n",
    "\n",
    "print(f\"y = {lr.coef_[0]:.4f}*confirmed_cases + ({lr.intercept_:.4f})\")"
   ]
  },
  {
   "cell_type": "code",
   "execution_count": 19,
   "metadata": {},
   "outputs": [
    {
     "name": "stdout",
     "output_type": "stream",
     "text": [
      "Accuracy: \n",
      " -2.013462574787056\n",
      "Coefficient(a): \n",
      " [0.04198909]\n",
      "Intercept(b): \n",
      " 0.0\n",
      "y = 0.0420*confirmed_cases\n"
     ]
    }
   ],
   "source": [
    "lr = LinearRegression(fit_intercept=False).fit(x_train, y_train)\n",
    "acc = lr.score(x_test, y_test)\n",
    "print('Accuracy: \\n', acc)\n",
    "\n",
    "print('Coefficient(a): \\n', lr.coef_)\n",
    "print('Intercept(b): \\n', lr.intercept_)\n",
    "\n",
    "print(f\"y = {lr.coef_[0]:.4f}*confirmed_cases\")"
   ]
  },
  {
   "cell_type": "code",
   "execution_count": 20,
   "metadata": {},
   "outputs": [
    {
     "data": {
      "text/html": [
       "<div>\n",
       "<style scoped>\n",
       "    .dataframe tbody tr th:only-of-type {\n",
       "        vertical-align: middle;\n",
       "    }\n",
       "\n",
       "    .dataframe tbody tr th {\n",
       "        vertical-align: top;\n",
       "    }\n",
       "\n",
       "    .dataframe thead th {\n",
       "        text-align: right;\n",
       "    }\n",
       "</style>\n",
       "<table border=\"1\" class=\"dataframe\">\n",
       "  <thead>\n",
       "    <tr style=\"text-align: right;\">\n",
       "      <th></th>\n",
       "      <th>Confirmed</th>\n",
       "      <th>Deaths</th>\n",
       "      <th>Recovered</th>\n",
       "      <th>Predicted Deaths</th>\n",
       "    </tr>\n",
       "    <tr>\n",
       "      <th>Date</th>\n",
       "      <th></th>\n",
       "      <th></th>\n",
       "      <th></th>\n",
       "      <th></th>\n",
       "    </tr>\n",
       "  </thead>\n",
       "  <tbody>\n",
       "    <tr>\n",
       "      <th>2020-08-02</th>\n",
       "      <td>46894</td>\n",
       "      <td>1731</td>\n",
       "      <td>34709</td>\n",
       "      <td>1969.036312</td>\n",
       "    </tr>\n",
       "    <tr>\n",
       "      <th>2020-08-03</th>\n",
       "      <td>47469</td>\n",
       "      <td>1732</td>\n",
       "      <td>34881</td>\n",
       "      <td>1993.180037</td>\n",
       "    </tr>\n",
       "    <tr>\n",
       "      <th>2020-08-04</th>\n",
       "      <td>48149</td>\n",
       "      <td>1738</td>\n",
       "      <td>35056</td>\n",
       "      <td>2021.732617</td>\n",
       "    </tr>\n",
       "    <tr>\n",
       "      <th>2020-08-05</th>\n",
       "      <td>48789</td>\n",
       "      <td>1756</td>\n",
       "      <td>35321</td>\n",
       "      <td>2048.605634</td>\n",
       "    </tr>\n",
       "    <tr>\n",
       "      <th>2020-08-06</th>\n",
       "      <td>49515</td>\n",
       "      <td>1774</td>\n",
       "      <td>35642</td>\n",
       "      <td>2079.089712</td>\n",
       "    </tr>\n",
       "    <tr>\n",
       "      <th>...</th>\n",
       "      <td>...</td>\n",
       "      <td>...</td>\n",
       "      <td>...</td>\n",
       "      <td>...</td>\n",
       "    </tr>\n",
       "    <tr>\n",
       "      <th>2020-12-22</th>\n",
       "      <td>1214525</td>\n",
       "      <td>25783</td>\n",
       "      <td>954272</td>\n",
       "      <td>50996.797591</td>\n",
       "    </tr>\n",
       "    <tr>\n",
       "      <th>2020-12-23</th>\n",
       "      <td>1226883</td>\n",
       "      <td>26255</td>\n",
       "      <td>965178</td>\n",
       "      <td>51515.698746</td>\n",
       "    </tr>\n",
       "    <tr>\n",
       "      <th>2020-12-24</th>\n",
       "      <td>1239998</td>\n",
       "      <td>26752</td>\n",
       "      <td>975876</td>\n",
       "      <td>52066.385640</td>\n",
       "    </tr>\n",
       "    <tr>\n",
       "      <th>2020-12-25</th>\n",
       "      <td>1249079</td>\n",
       "      <td>26992</td>\n",
       "      <td>984683</td>\n",
       "      <td>52447.688552</td>\n",
       "    </tr>\n",
       "    <tr>\n",
       "      <th>2020-12-26</th>\n",
       "      <td>1253957</td>\n",
       "      <td>27061</td>\n",
       "      <td>992381</td>\n",
       "      <td>52652.511325</td>\n",
       "    </tr>\n",
       "  </tbody>\n",
       "</table>\n",
       "<p>147 rows × 4 columns</p>\n",
       "</div>"
      ],
      "text/plain": [
       "            Confirmed  Deaths  Recovered  Predicted Deaths\n",
       "Date                                                      \n",
       "2020-08-02      46894    1731      34709       1969.036312\n",
       "2020-08-03      47469    1732      34881       1993.180037\n",
       "2020-08-04      48149    1738      35056       2021.732617\n",
       "2020-08-05      48789    1756      35321       2048.605634\n",
       "2020-08-06      49515    1774      35642       2079.089712\n",
       "...               ...     ...        ...               ...\n",
       "2020-12-22    1214525   25783     954272      50996.797591\n",
       "2020-12-23    1226883   26255     965178      51515.698746\n",
       "2020-12-24    1239998   26752     975876      52066.385640\n",
       "2020-12-25    1249079   26992     984683      52447.688552\n",
       "2020-12-26    1253957   27061     992381      52652.511325\n",
       "\n",
       "[147 rows x 4 columns]"
      ]
     },
     "execution_count": 20,
     "metadata": {},
     "output_type": "execute_result"
    }
   ],
   "source": [
    "y_pred = lr.predict(x_test)\n",
    "\n",
    "predictions = pd.concat([test_df, pd.DataFrame(y_pred, columns=[\"Predicted Deaths\"])], axis=1)\n",
    "predictions = predictions.set_index(\"Date\")\n",
    "predictions"
   ]
  },
  {
   "cell_type": "code",
   "execution_count": 21,
   "metadata": {},
   "outputs": [
    {
     "data": {
      "image/png": "[encoded data removed]",
      "text/plain": [
       "<Figure size 720x360 with 1 Axes>"
      ]
     },
     "metadata": {
      "needs_background": "light"
     },
     "output_type": "display_data"
    }
   ],
   "source": [
    "import matplotlib.pyplot as plt\n",
    "\n",
    "plt.figure(figsize=(10,5))\n",
    "plt.xlabel(\"Confirmed\")\n",
    "plt.ylabel(\"Deaths\")\n",
    "plt.scatter(x_test, y_test)\n",
    "plt.plot(x_test, y_pred, c='r')\n",
    "plt.show()"
   ]
  },
  {
   "cell_type": "code",
   "execution_count": 22,
   "metadata": {},
   "outputs": [
    {
     "data": {
      "text/plain": [
       "<matplotlib.axes._subplots.AxesSubplot at 0x7f8b7ea874c0>"
      ]
     },
     "execution_count": 22,
     "metadata": {},
     "output_type": "execute_result"
    },
    {
     "data": {
      "image/png": "[encoded data removed]",
      "text/plain": [
       "<Figure size 720x360 with 1 Axes>"
      ]
     },
     "metadata": {
      "needs_background": "light"
     },
     "output_type": "display_data"
    }
   ],
   "source": [
    "predictions[['Deaths', 'Predicted Deaths']].plot(figsize=(10,5))"
   ]
  }
 ],
 "metadata": {
  "kernelspec": {
   "display_name": "Python 3",
   "language": "python",
   "name": "python3"
  },
  "language_info": {
   "codemirror_mode": {
    "name": "ipython",
    "version": 3
   },
   "file_extension": ".py",
   "mimetype": "text/x-python",
   "name": "python",
   "nbconvert_exporter": "python",
   "pygments_lexer": "ipython3",
   "version": "3.8.3"
  }
 },
 "nbformat": 4,
 "nbformat_minor": 4
}
