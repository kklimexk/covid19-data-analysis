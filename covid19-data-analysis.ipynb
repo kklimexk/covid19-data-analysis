{
 "cells": [
  {
   "cell_type": "markdown",
   "metadata": {},
   "source": [
    "# COVID-19 in data analysis"
   ]
  },
  {
   "cell_type": "markdown",
   "metadata": {},
   "source": [
    "## Introduction\n",
    "- about me\n",
    "- why this topic?\n",
    "- goal"
   ]
  },
  {
   "cell_type": "markdown",
   "metadata": {},
   "source": [
    "## COVID-19 Data - github repositories\n",
    "\n",
    "1. https://github.com/CSSEGISandData/COVID-19\n",
    "2. https://github.com/covid19-eu-zh/covid19-eu-data"
   ]
  },
  {
   "cell_type": "markdown",
   "metadata": {},
   "source": [
    "## Useful resources\n",
    "\n",
    "1. https://coronavirus.jhu.edu/map.html\n",
    "2. https://docs.conda.io/projects/conda/en/latest/_downloads/843d9e0198f2a193a3484886fa28163c/conda-cheatsheet.pdf\n",
    "3. https://pandas.pydata.org/Pandas_Cheat_Sheet.pdf"
   ]
  },
  {
   "cell_type": "markdown",
   "metadata": {},
   "source": [
    "## Get started with jupyter lab\n",
    "https://www.anaconda.com/products/individual"
   ]
  },
  {
   "cell_type": "markdown",
   "metadata": {},
   "source": [
    "## What is Pandas (overview)"
   ]
  },
  {
   "cell_type": "markdown",
   "metadata": {},
   "source": [
    "<img src=\"images/pandas.jpg\" />"
   ]
  },
  {
   "cell_type": "markdown",
   "metadata": {},
   "source": [
    "*pandas* - is a Python package providing fast, flexible, and expressive data structures designed to make working with data both easy and intuitive (high-performance data manipulation and analysis tool using its powerful data structures). It aims to be the fundamental high-level building block for doing practical, real-world data analysis in Python."
   ]
  },
  {
   "cell_type": "markdown",
   "metadata": {},
   "source": [
    "## Install pandas"
   ]
  },
  {
   "cell_type": "code",
   "execution_count": 25,
   "metadata": {},
   "outputs": [],
   "source": [
    "#%pip install --upgrade pandas"
   ]
  },
  {
   "cell_type": "code",
   "execution_count": 26,
   "metadata": {},
   "outputs": [
    {
     "data": {
      "text/plain": [
       "'1.1.4'"
      ]
     },
     "execution_count": 26,
     "metadata": {},
     "output_type": "execute_result"
    }
   ],
   "source": [
    "import pandas as pd\n",
    "pd.__version__"
   ]
  },
  {
   "cell_type": "markdown",
   "metadata": {},
   "source": [
    "## COVID-19 Data Analysis (World / per Country)"
   ]
  },
  {
   "cell_type": "code",
   "execution_count": 27,
   "metadata": {},
   "outputs": [],
   "source": [
    "CONFIRMED = 'https://raw.githubusercontent.com/CSSEGISandData/COVID-19/master/csse_covid_19_data/csse_covid_19_time_series/time_series_covid19_confirmed_global.csv'\n",
    "DEATHS = 'https://raw.githubusercontent.com/CSSEGISandData/COVID-19/master/csse_covid_19_data/csse_covid_19_time_series/time_series_covid19_deaths_global.csv'\n",
    "RECOVERED = 'https://raw.githubusercontent.com/CSSEGISandData/COVID-19/master/csse_covid_19_data/csse_covid_19_time_series/time_series_covid19_recovered_global.csv'"
   ]
  },
  {
   "cell_type": "code",
   "execution_count": 28,
   "metadata": {},
   "outputs": [],
   "source": [
    "confirmed = pd.read_csv(CONFIRMED)\n",
    "deaths = pd.read_csv(DEATHS)\n",
    "recovered = pd.read_csv(RECOVERED)"
   ]
  },
  {
   "cell_type": "code",
   "execution_count": 29,
   "metadata": {},
   "outputs": [
    {
     "data": {
      "text/plain": [
       "(272, 355)"
      ]
     },
     "execution_count": 29,
     "metadata": {},
     "output_type": "execute_result"
    }
   ],
   "source": [
    "confirmed.shape"
   ]
  },
  {
   "cell_type": "code",
   "execution_count": 30,
   "metadata": {},
   "outputs": [
    {
     "data": {
      "text/html": [
       "<div>\n",
       "<style scoped>\n",
       "    .dataframe tbody tr th:only-of-type {\n",
       "        vertical-align: middle;\n",
       "    }\n",
       "\n",
       "    .dataframe tbody tr th {\n",
       "        vertical-align: top;\n",
       "    }\n",
       "\n",
       "    .dataframe thead th {\n",
       "        text-align: right;\n",
       "    }\n",
       "</style>\n",
       "<table border=\"1\" class=\"dataframe\">\n",
       "  <thead>\n",
       "    <tr style=\"text-align: right;\">\n",
       "      <th></th>\n",
       "      <th>Province/State</th>\n",
       "      <th>Country/Region</th>\n",
       "      <th>Lat</th>\n",
       "      <th>Long</th>\n",
       "      <th>1/22/20</th>\n",
       "      <th>1/23/20</th>\n",
       "      <th>1/24/20</th>\n",
       "      <th>1/25/20</th>\n",
       "      <th>1/26/20</th>\n",
       "      <th>1/27/20</th>\n",
       "      <th>...</th>\n",
       "      <th>12/28/20</th>\n",
       "      <th>12/29/20</th>\n",
       "      <th>12/30/20</th>\n",
       "      <th>12/31/20</th>\n",
       "      <th>1/1/21</th>\n",
       "      <th>1/2/21</th>\n",
       "      <th>1/3/21</th>\n",
       "      <th>1/4/21</th>\n",
       "      <th>1/5/21</th>\n",
       "      <th>1/6/21</th>\n",
       "    </tr>\n",
       "  </thead>\n",
       "  <tbody>\n",
       "    <tr>\n",
       "      <th>208</th>\n",
       "      <td>NaN</td>\n",
       "      <td>Poland</td>\n",
       "      <td>51.9194</td>\n",
       "      <td>19.1451</td>\n",
       "      <td>0</td>\n",
       "      <td>0</td>\n",
       "      <td>0</td>\n",
       "      <td>0</td>\n",
       "      <td>0</td>\n",
       "      <td>0</td>\n",
       "      <td>...</td>\n",
       "      <td>1261010</td>\n",
       "      <td>1268634</td>\n",
       "      <td>1281414</td>\n",
       "      <td>1294878</td>\n",
       "      <td>1305774</td>\n",
       "      <td>1312780</td>\n",
       "      <td>1318562</td>\n",
       "      <td>1322947</td>\n",
       "      <td>1330543</td>\n",
       "      <td>1344763</td>\n",
       "    </tr>\n",
       "    <tr>\n",
       "      <th>250</th>\n",
       "      <td>NaN</td>\n",
       "      <td>Ukraine</td>\n",
       "      <td>48.3794</td>\n",
       "      <td>31.1656</td>\n",
       "      <td>0</td>\n",
       "      <td>0</td>\n",
       "      <td>0</td>\n",
       "      <td>0</td>\n",
       "      <td>0</td>\n",
       "      <td>0</td>\n",
       "      <td>...</td>\n",
       "      <td>1061074</td>\n",
       "      <td>1068476</td>\n",
       "      <td>1076880</td>\n",
       "      <td>1086997</td>\n",
       "      <td>1096855</td>\n",
       "      <td>1102256</td>\n",
       "      <td>1107137</td>\n",
       "      <td>1111631</td>\n",
       "      <td>1117256</td>\n",
       "      <td>1124482</td>\n",
       "    </tr>\n",
       "  </tbody>\n",
       "</table>\n",
       "<p>2 rows × 355 columns</p>\n",
       "</div>"
      ],
      "text/plain": [
       "    Province/State Country/Region      Lat     Long  1/22/20  1/23/20  \\\n",
       "208            NaN         Poland  51.9194  19.1451        0        0   \n",
       "250            NaN        Ukraine  48.3794  31.1656        0        0   \n",
       "\n",
       "     1/24/20  1/25/20  1/26/20  1/27/20  ...  12/28/20  12/29/20  12/30/20  \\\n",
       "208        0        0        0        0  ...   1261010   1268634   1281414   \n",
       "250        0        0        0        0  ...   1061074   1068476   1076880   \n",
       "\n",
       "     12/31/20   1/1/21   1/2/21   1/3/21   1/4/21   1/5/21   1/6/21  \n",
       "208   1294878  1305774  1312780  1318562  1322947  1330543  1344763  \n",
       "250   1086997  1096855  1102256  1107137  1111631  1117256  1124482  \n",
       "\n",
       "[2 rows x 355 columns]"
      ]
     },
     "execution_count": 30,
     "metadata": {},
     "output_type": "execute_result"
    }
   ],
   "source": [
    "q = (confirmed['Country/Region'] == 'Poland') | (confirmed['Country/Region'] == 'Ukraine')\n",
    "confirmed.loc[q]"
   ]
  },
  {
   "cell_type": "code",
   "execution_count": 31,
   "metadata": {},
   "outputs": [
    {
     "data": {
      "text/html": [
       "<div>\n",
       "<style scoped>\n",
       "    .dataframe tbody tr th:only-of-type {\n",
       "        vertical-align: middle;\n",
       "    }\n",
       "\n",
       "    .dataframe tbody tr th {\n",
       "        vertical-align: top;\n",
       "    }\n",
       "\n",
       "    .dataframe thead th {\n",
       "        text-align: right;\n",
       "    }\n",
       "</style>\n",
       "<table border=\"1\" class=\"dataframe\">\n",
       "  <thead>\n",
       "    <tr style=\"text-align: right;\">\n",
       "      <th></th>\n",
       "      <th>Country/Region</th>\n",
       "      <th>1/6/21</th>\n",
       "    </tr>\n",
       "  </thead>\n",
       "  <tbody>\n",
       "    <tr>\n",
       "      <th>177</th>\n",
       "      <td>US</td>\n",
       "      <td>21299340</td>\n",
       "    </tr>\n",
       "    <tr>\n",
       "      <th>79</th>\n",
       "      <td>India</td>\n",
       "      <td>10395278</td>\n",
       "    </tr>\n",
       "    <tr>\n",
       "      <th>23</th>\n",
       "      <td>Brazil</td>\n",
       "      <td>7873830</td>\n",
       "    </tr>\n",
       "    <tr>\n",
       "      <th>141</th>\n",
       "      <td>Russia</td>\n",
       "      <td>3274615</td>\n",
       "    </tr>\n",
       "    <tr>\n",
       "      <th>181</th>\n",
       "      <td>United Kingdom</td>\n",
       "      <td>2845265</td>\n",
       "    </tr>\n",
       "  </tbody>\n",
       "</table>\n",
       "</div>"
      ],
      "text/plain": [
       "     Country/Region    1/6/21\n",
       "177              US  21299340\n",
       "79            India  10395278\n",
       "23           Brazil   7873830\n",
       "141          Russia   3274615\n",
       "181  United Kingdom   2845265"
      ]
     },
     "execution_count": 31,
     "metadata": {},
     "output_type": "execute_result"
    }
   ],
   "source": [
    "confirmed_grouped = confirmed.drop(['Province/State', 'Lat', 'Long'], 1).groupby('Country/Region')\n",
    "recovered_grouped = recovered.drop(['Province/State', 'Lat', 'Long'], 1).groupby('Country/Region')\n",
    "deaths_grouped = deaths.drop(['Province/State', 'Lat', 'Long'], 1).groupby('Country/Region')\n",
    "\n",
    "total_confirmed = confirmed_grouped.sum().iloc[:,[-1]].reset_index()\n",
    "total_recovered = recovered_grouped.sum().iloc[:,[-1]].reset_index()\n",
    "total_deaths = deaths_grouped.sum().iloc[:,[-1]].reset_index()\n",
    "\n",
    "#q2 = last_deaths.iloc[:,[-1]].idxmax()\n",
    "#last_deaths.loc[q2]\n",
    "\n",
    "total_confirmed.sort_values(total_confirmed.columns[-1],ascending=False).head(5)"
   ]
  },
  {
   "cell_type": "code",
   "execution_count": 32,
   "metadata": {},
   "outputs": [],
   "source": [
    "def _covid19_stats_for(country, name, data):\n",
    "    if country:\n",
    "        query = data['Country/Region'] == country\n",
    "        data = data.loc[query]\n",
    "        \n",
    "    data = (data\n",
    "          .transpose()[4:]\n",
    "          .sum(axis='columns')\n",
    "          .map(int))\n",
    "    \n",
    "    return pd.DataFrame(\n",
    "        data = data,\n",
    "        columns = [name],\n",
    "        index = pd.to_datetime(data.index)\n",
    "    )\n",
    "\n",
    "\n",
    "def covid19_stats_for(country=None):\n",
    "    return pd.concat((\n",
    "        _covid19_stats_for(country, 'Confirmed', confirmed),\n",
    "        _covid19_stats_for(country, 'Deaths', deaths),\n",
    "        _covid19_stats_for(country, 'Recovered', recovered)\n",
    "    ), axis='columns')    "
   ]
  },
  {
   "cell_type": "code",
   "execution_count": 33,
   "metadata": {},
   "outputs": [],
   "source": [
    "def death_rate(df):\n",
    "    return (df.tail(1)['Deaths'] / df.tail(1)['Confirmed']) * 100\n",
    "\n",
    "def recovered_rate(df):\n",
    "    return (df.tail(1)['Recovered'] / df.tail(1)['Confirmed']) * 100"
   ]
  },
  {
   "cell_type": "code",
   "execution_count": 34,
   "metadata": {},
   "outputs": [
    {
     "data": {
      "text/html": [
       "<div>\n",
       "<style scoped>\n",
       "    .dataframe tbody tr th:only-of-type {\n",
       "        vertical-align: middle;\n",
       "    }\n",
       "\n",
       "    .dataframe tbody tr th {\n",
       "        vertical-align: top;\n",
       "    }\n",
       "\n",
       "    .dataframe thead th {\n",
       "        text-align: right;\n",
       "    }\n",
       "</style>\n",
       "<table border=\"1\" class=\"dataframe\">\n",
       "  <thead>\n",
       "    <tr style=\"text-align: right;\">\n",
       "      <th></th>\n",
       "      <th>Confirmed</th>\n",
       "      <th>Deaths</th>\n",
       "      <th>Recovered</th>\n",
       "    </tr>\n",
       "  </thead>\n",
       "  <tbody>\n",
       "    <tr>\n",
       "      <th>2020-01-22</th>\n",
       "      <td>0</td>\n",
       "      <td>0</td>\n",
       "      <td>0</td>\n",
       "    </tr>\n",
       "    <tr>\n",
       "      <th>2020-01-23</th>\n",
       "      <td>0</td>\n",
       "      <td>0</td>\n",
       "      <td>0</td>\n",
       "    </tr>\n",
       "    <tr>\n",
       "      <th>2020-01-24</th>\n",
       "      <td>0</td>\n",
       "      <td>0</td>\n",
       "      <td>0</td>\n",
       "    </tr>\n",
       "    <tr>\n",
       "      <th>2020-01-25</th>\n",
       "      <td>0</td>\n",
       "      <td>0</td>\n",
       "      <td>0</td>\n",
       "    </tr>\n",
       "    <tr>\n",
       "      <th>2020-01-26</th>\n",
       "      <td>0</td>\n",
       "      <td>0</td>\n",
       "      <td>0</td>\n",
       "    </tr>\n",
       "    <tr>\n",
       "      <th>...</th>\n",
       "      <td>...</td>\n",
       "      <td>...</td>\n",
       "      <td>...</td>\n",
       "    </tr>\n",
       "    <tr>\n",
       "      <th>2021-01-02</th>\n",
       "      <td>1312780</td>\n",
       "      <td>29058</td>\n",
       "      <td>1055436</td>\n",
       "    </tr>\n",
       "    <tr>\n",
       "      <th>2021-01-03</th>\n",
       "      <td>1318562</td>\n",
       "      <td>29119</td>\n",
       "      <td>1063093</td>\n",
       "    </tr>\n",
       "    <tr>\n",
       "      <th>2021-01-04</th>\n",
       "      <td>1322947</td>\n",
       "      <td>29161</td>\n",
       "      <td>1069554</td>\n",
       "    </tr>\n",
       "    <tr>\n",
       "      <th>2021-01-05</th>\n",
       "      <td>1330543</td>\n",
       "      <td>29502</td>\n",
       "      <td>1078892</td>\n",
       "    </tr>\n",
       "    <tr>\n",
       "      <th>2021-01-06</th>\n",
       "      <td>1344763</td>\n",
       "      <td>30055</td>\n",
       "      <td>1087744</td>\n",
       "    </tr>\n",
       "  </tbody>\n",
       "</table>\n",
       "<p>351 rows × 3 columns</p>\n",
       "</div>"
      ],
      "text/plain": [
       "            Confirmed  Deaths  Recovered\n",
       "2020-01-22          0       0          0\n",
       "2020-01-23          0       0          0\n",
       "2020-01-24          0       0          0\n",
       "2020-01-25          0       0          0\n",
       "2020-01-26          0       0          0\n",
       "...               ...     ...        ...\n",
       "2021-01-02    1312780   29058    1055436\n",
       "2021-01-03    1318562   29119    1063093\n",
       "2021-01-04    1322947   29161    1069554\n",
       "2021-01-05    1330543   29502    1078892\n",
       "2021-01-06    1344763   30055    1087744\n",
       "\n",
       "[351 rows x 3 columns]"
      ]
     },
     "execution_count": 34,
     "metadata": {},
     "output_type": "execute_result"
    }
   ],
   "source": [
    "df = covid19_stats_for('Poland')\n",
    "#death_rate(df)\n",
    "df"
   ]
  },
  {
   "cell_type": "code",
   "execution_count": 35,
   "metadata": {},
   "outputs": [
    {
     "data": {
      "text/plain": [
       "<matplotlib.axes._subplots.AxesSubplot at 0x7f2afddebe80>"
      ]
     },
     "execution_count": 35,
     "metadata": {},
     "output_type": "execute_result"
    },
    {
     "data": {
      "image/png": "[encoded data removed]",
      "text/plain": [
       "<Figure size 720x360 with 1 Axes>"
      ]
     },
     "metadata": {
      "needs_background": "light"
     },
     "output_type": "display_data"
    }
   ],
   "source": [
    "df.plot(subplots=False, sharey=True, sharex=True, figsize=(10,5))"
   ]
  },
  {
   "cell_type": "code",
   "execution_count": 36,
   "metadata": {},
   "outputs": [
    {
     "data": {
      "text/plain": [
       "<matplotlib.axes._subplots.AxesSubplot at 0x7f2b01dca370>"
      ]
     },
     "execution_count": 36,
     "metadata": {},
     "output_type": "execute_result"
    },
    {
     "data": {
      "image/png": "[encoded data removed]",
      "text/plain": [
       "<Figure size 432x288 with 1 Axes>"
      ]
     },
     "metadata": {
      "needs_background": "light"
     },
     "output_type": "display_data"
    }
   ],
   "source": [
    "c = df['Confirmed']\n",
    "r = df['Recovered']\n",
    "\n",
    "#r.index -= pd.Timedelta(days=20)\n",
    "\n",
    "cr = pd.concat((\n",
    "    c['2020-03-04':],\n",
    "    r['2020-03-04':]\n",
    "), axis='columns')\n",
    "\n",
    "cr.plot()"
   ]
  },
  {
   "cell_type": "code",
   "execution_count": 37,
   "metadata": {},
   "outputs": [],
   "source": [
    "c = c['2020-03-04':]\n",
    "r = r['2020-03-04':]"
   ]
  },
  {
   "cell_type": "code",
   "execution_count": 38,
   "metadata": {},
   "outputs": [
    {
     "data": {
      "text/plain": [
       "<matplotlib.axes._subplots.AxesSubplot at 0x7f2b01ce9940>"
      ]
     },
     "execution_count": 38,
     "metadata": {},
     "output_type": "execute_result"
    },
    {
     "data": {
      "image/png": "[encoded data removed]",
      "text/plain": [
       "<Figure size 720x360 with 1 Axes>"
      ]
     },
     "metadata": {
      "needs_background": "light"
     },
     "output_type": "display_data"
    }
   ],
   "source": [
    "(c / r).plot(figsize=(10,5))"
   ]
  },
  {
   "cell_type": "code",
   "execution_count": 50,
   "metadata": {},
   "outputs": [
    {
     "data": {
      "text/plain": [
       "1.8099150766515937"
      ]
     },
     "execution_count": 50,
     "metadata": {},
     "output_type": "execute_result"
    }
   ],
   "source": [
    "(c/r).median()"
   ]
  },
  {
   "cell_type": "code",
   "execution_count": 40,
   "metadata": {},
   "outputs": [
    {
     "data": {
      "image/png": "[encoded data removed]",
      "text/plain": [
       "<Figure size 432x288 with 1 Axes>"
      ]
     },
     "metadata": {
      "needs_background": "light"
     },
     "output_type": "display_data"
    }
   ],
   "source": [
    "import matplotlib.pyplot as plt\n",
    "import numpy as np\n",
    "\n",
    "x = c[:len(r)]\n",
    "y = r\n",
    "\n",
    "model = np.polyfit(x, y, 1)\n",
    "trend = np.poly1d(model)\n",
    "\n",
    "plt.title('Confirmed, Recovered ratio')\n",
    "plt.plot(x, y, label='data')\n",
    "plt.plot(x, trend(x), color='red', linestyle='--', label='trend')\n",
    "plt.show()"
   ]
  },
  {
   "cell_type": "markdown",
   "metadata": {},
   "source": [
    "# Covid-19 Week analysis"
   ]
  },
  {
   "cell_type": "code",
   "execution_count": 41,
   "metadata": {},
   "outputs": [
    {
     "data": {
      "text/plain": [
       "<matplotlib.axes._subplots.AxesSubplot at 0x7f2b01be9730>"
      ]
     },
     "execution_count": 41,
     "metadata": {},
     "output_type": "execute_result"
    },
    {
     "data": {
      "image/png": "[encoded data removed]",
      "text/plain": [
       "<Figure size 432x288 with 1 Axes>"
      ]
     },
     "metadata": {
      "needs_background": "light"
     },
     "output_type": "display_data"
    }
   ],
   "source": [
    "#c['2020-05-12':'2020-05-18'].diff().plot(kind='bar')\n",
    "#c['2020-06-09':'2020-06-15'].diff().plot(kind='bar')\n",
    "#c['2020-06-23':'2020-06-29'].diff().plot(kind='bar') # presidential elections\n",
    "#c['2020-09-15':'2020-09-21'].diff().plot(kind='bar')\n",
    "#c['2020-10-06':'2020-10-12'].diff().plot(kind='bar')\n",
    "#c['2020-10-13':'2020-10-19'].diff().plot(kind='bar')\n",
    "#c['2020-11-17':'2020-11-23'].diff().plot(kind='bar')\n",
    "#c['2020-12-15':'2020-12-21'].diff().plot(kind='bar')\n",
    "\n",
    "c['2020-12-01':'2020-12-30'].diff().plot(kind='bar')"
   ]
  },
  {
   "cell_type": "code",
   "execution_count": 42,
   "metadata": {},
   "outputs": [
    {
     "data": {
      "text/plain": [
       "<matplotlib.axes._subplots.AxesSubplot at 0x7f2afd3a8d90>"
      ]
     },
     "execution_count": 42,
     "metadata": {},
     "output_type": "execute_result"
    },
    {
     "data": {
      "image/png": "[encoded data removed]",
      "text/plain": [
       "<Figure size 432x288 with 1 Axes>"
      ]
     },
     "metadata": {
      "needs_background": "light"
     },
     "output_type": "display_data"
    }
   ],
   "source": [
    "c['2020-12-15':'2020-12-21'].diff().plot(kind='bar')"
   ]
  },
  {
   "cell_type": "markdown",
   "metadata": {},
   "source": [
    "## Linear Regression (Supervised Learning algorithm)"
   ]
  },
  {
   "cell_type": "markdown",
   "metadata": {},
   "source": [
    "<img src=\"images/traditional_programming_vs_ML.png\" width='500px' />"
   ]
  },
  {
   "cell_type": "markdown",
   "metadata": {},
   "source": [
    "Goal: Find the best line fit\n",
    "\n",
    "**y = a*x + b**\n",
    "\n",
    "- **a**: slope. Meaning how much the y value increases for each x value.\n",
    "- **b**: y intercept. Where the line crosses the y axis.\n",
    "- **x**: feature\n",
    "- **y**: label\n",
    "\n",
    "a = (y2 - y1) / (x2 - x1)"
   ]
  },
  {
   "cell_type": "markdown",
   "metadata": {},
   "source": [
    "<img src=\"images/linear_regression.png\" />"
   ]
  },
  {
   "cell_type": "markdown",
   "metadata": {},
   "source": [
    "## COVID-19 Number of deaths prediction based on number of confirmed cases"
   ]
  },
  {
   "cell_type": "code",
   "execution_count": 43,
   "metadata": {},
   "outputs": [],
   "source": [
    "train_df = df['2020-03-04':'2020-08-01'].rename_axis('Date').reset_index()\n",
    "test_df = df['2020-08-02':].rename_axis('Date').reset_index()\n",
    "\n",
    "x_train = train_df[[\"Confirmed\"]]\n",
    "y_train = train_df[\"Deaths\"]\n",
    "\n",
    "x_test = test_df[[\"Confirmed\"]]\n",
    "y_test = test_df[\"Deaths\"]"
   ]
  },
  {
   "cell_type": "code",
   "execution_count": 44,
   "metadata": {},
   "outputs": [
    {
     "name": "stdout",
     "output_type": "stream",
     "text": [
      "Accuracy: \n",
      " -1.4052439851876906\n",
      "Coefficient(a): \n",
      " [0.04112983]\n",
      "Intercept(b): \n",
      " 26.064105895494663\n",
      "y = 0.0411*confirmed_cases + (26.0641)\n"
     ]
    }
   ],
   "source": [
    "from sklearn.linear_model import LinearRegression\n",
    "\n",
    "lr = LinearRegression().fit(x_train, y_train)\n",
    "acc = lr.score(x_test, y_test)\n",
    "print('Accuracy: \\n', acc)\n",
    "\n",
    "print('Coefficient(a): \\n', lr.coef_)\n",
    "print('Intercept(b): \\n', lr.intercept_)\n",
    "\n",
    "print(f\"y = {lr.coef_[0]:.4f}*confirmed_cases + ({lr.intercept_:.4f})\")"
   ]
  },
  {
   "cell_type": "code",
   "execution_count": 45,
   "metadata": {},
   "outputs": [
    {
     "name": "stdout",
     "output_type": "stream",
     "text": [
      "Accuracy: \n",
      " -1.591727706007363\n",
      "Coefficient(a): \n",
      " [0.04198909]\n",
      "Intercept(b): \n",
      " 0.0\n",
      "y = 0.0420*confirmed_cases\n"
     ]
    }
   ],
   "source": [
    "lr = LinearRegression(fit_intercept=False).fit(x_train, y_train)\n",
    "acc = lr.score(x_test, y_test)\n",
    "print('Accuracy: \\n', acc)\n",
    "\n",
    "print('Coefficient(a): \\n', lr.coef_)\n",
    "print('Intercept(b): \\n', lr.intercept_)\n",
    "\n",
    "print(f\"y = {lr.coef_[0]:.4f}*confirmed_cases\")"
   ]
  },
  {
   "cell_type": "code",
   "execution_count": 46,
   "metadata": {},
   "outputs": [
    {
     "data": {
      "text/html": [
       "<div>\n",
       "<style scoped>\n",
       "    .dataframe tbody tr th:only-of-type {\n",
       "        vertical-align: middle;\n",
       "    }\n",
       "\n",
       "    .dataframe tbody tr th {\n",
       "        vertical-align: top;\n",
       "    }\n",
       "\n",
       "    .dataframe thead th {\n",
       "        text-align: right;\n",
       "    }\n",
       "</style>\n",
       "<table border=\"1\" class=\"dataframe\">\n",
       "  <thead>\n",
       "    <tr style=\"text-align: right;\">\n",
       "      <th></th>\n",
       "      <th>Confirmed</th>\n",
       "      <th>Deaths</th>\n",
       "      <th>Recovered</th>\n",
       "      <th>Predicted Deaths</th>\n",
       "    </tr>\n",
       "    <tr>\n",
       "      <th>Date</th>\n",
       "      <th></th>\n",
       "      <th></th>\n",
       "      <th></th>\n",
       "      <th></th>\n",
       "    </tr>\n",
       "  </thead>\n",
       "  <tbody>\n",
       "    <tr>\n",
       "      <th>2020-08-02</th>\n",
       "      <td>46894</td>\n",
       "      <td>1731</td>\n",
       "      <td>34709</td>\n",
       "      <td>1969.036312</td>\n",
       "    </tr>\n",
       "    <tr>\n",
       "      <th>2020-08-03</th>\n",
       "      <td>47469</td>\n",
       "      <td>1732</td>\n",
       "      <td>34881</td>\n",
       "      <td>1993.180037</td>\n",
       "    </tr>\n",
       "    <tr>\n",
       "      <th>2020-08-04</th>\n",
       "      <td>48149</td>\n",
       "      <td>1738</td>\n",
       "      <td>35056</td>\n",
       "      <td>2021.732617</td>\n",
       "    </tr>\n",
       "    <tr>\n",
       "      <th>2020-08-05</th>\n",
       "      <td>48789</td>\n",
       "      <td>1756</td>\n",
       "      <td>35321</td>\n",
       "      <td>2048.605634</td>\n",
       "    </tr>\n",
       "    <tr>\n",
       "      <th>2020-08-06</th>\n",
       "      <td>49515</td>\n",
       "      <td>1774</td>\n",
       "      <td>35642</td>\n",
       "      <td>2079.089712</td>\n",
       "    </tr>\n",
       "    <tr>\n",
       "      <th>...</th>\n",
       "      <td>...</td>\n",
       "      <td>...</td>\n",
       "      <td>...</td>\n",
       "      <td>...</td>\n",
       "    </tr>\n",
       "    <tr>\n",
       "      <th>2021-01-02</th>\n",
       "      <td>1312780</td>\n",
       "      <td>29058</td>\n",
       "      <td>1055436</td>\n",
       "      <td>55122.435472</td>\n",
       "    </tr>\n",
       "    <tr>\n",
       "      <th>2021-01-03</th>\n",
       "      <td>1318562</td>\n",
       "      <td>29119</td>\n",
       "      <td>1063093</td>\n",
       "      <td>55365.216381</td>\n",
       "    </tr>\n",
       "    <tr>\n",
       "      <th>2021-01-04</th>\n",
       "      <td>1322947</td>\n",
       "      <td>29161</td>\n",
       "      <td>1069554</td>\n",
       "      <td>55549.338534</td>\n",
       "    </tr>\n",
       "    <tr>\n",
       "      <th>2021-01-05</th>\n",
       "      <td>1330543</td>\n",
       "      <td>29502</td>\n",
       "      <td>1078892</td>\n",
       "      <td>55868.287650</td>\n",
       "    </tr>\n",
       "    <tr>\n",
       "      <th>2021-01-06</th>\n",
       "      <td>1344763</td>\n",
       "      <td>30055</td>\n",
       "      <td>1087744</td>\n",
       "      <td>56465.372487</td>\n",
       "    </tr>\n",
       "  </tbody>\n",
       "</table>\n",
       "<p>158 rows × 4 columns</p>\n",
       "</div>"
      ],
      "text/plain": [
       "            Confirmed  Deaths  Recovered  Predicted Deaths\n",
       "Date                                                      \n",
       "2020-08-02      46894    1731      34709       1969.036312\n",
       "2020-08-03      47469    1732      34881       1993.180037\n",
       "2020-08-04      48149    1738      35056       2021.732617\n",
       "2020-08-05      48789    1756      35321       2048.605634\n",
       "2020-08-06      49515    1774      35642       2079.089712\n",
       "...               ...     ...        ...               ...\n",
       "2021-01-02    1312780   29058    1055436      55122.435472\n",
       "2021-01-03    1318562   29119    1063093      55365.216381\n",
       "2021-01-04    1322947   29161    1069554      55549.338534\n",
       "2021-01-05    1330543   29502    1078892      55868.287650\n",
       "2021-01-06    1344763   30055    1087744      56465.372487\n",
       "\n",
       "[158 rows x 4 columns]"
      ]
     },
     "execution_count": 46,
     "metadata": {},
     "output_type": "execute_result"
    }
   ],
   "source": [
    "y_pred = lr.predict(x_test)\n",
    "\n",
    "predictions = pd.concat([test_df, pd.DataFrame(y_pred, columns=[\"Predicted Deaths\"])], axis=1)\n",
    "predictions = predictions.set_index(\"Date\")\n",
    "predictions"
   ]
  },
  {
   "cell_type": "code",
   "execution_count": 47,
   "metadata": {},
   "outputs": [
    {
     "data": {
      "image/png": "[encoded data removed]",
      "text/plain": [
       "<Figure size 720x360 with 1 Axes>"
      ]
     },
     "metadata": {
      "needs_background": "light"
     },
     "output_type": "display_data"
    }
   ],
   "source": [
    "import matplotlib.pyplot as plt\n",
    "\n",
    "plt.figure(figsize=(10,5))\n",
    "plt.xlabel(\"Confirmed\")\n",
    "plt.ylabel(\"Deaths\")\n",
    "plt.scatter(x_test, y_test)\n",
    "plt.plot(x_test, y_pred, c='r')\n",
    "plt.show()"
   ]
  },
  {
   "cell_type": "code",
   "execution_count": 48,
   "metadata": {},
   "outputs": [
    {
     "data": {
      "text/plain": [
       "<matplotlib.axes._subplots.AxesSubplot at 0x7f2af6b411c0>"
      ]
     },
     "execution_count": 48,
     "metadata": {},
     "output_type": "execute_result"
    },
    {
     "data": {
      "image/png": "[encoded data removed]",
      "text/plain": [
       "<Figure size 720x360 with 1 Axes>"
      ]
     },
     "metadata": {
      "needs_background": "light"
     },
     "output_type": "display_data"
    }
   ],
   "source": [
    "predictions[['Deaths', 'Predicted Deaths']].plot(figsize=(10,5))"
   ]
  },
  {
   "cell_type": "markdown",
   "metadata": {},
   "source": [
    "## Thank you!"
   ]
  },
  {
   "cell_type": "markdown",
   "metadata": {},
   "source": [
    "## Q & A"
   ]
  }
 ],
 "metadata": {
  "kernelspec": {
   "display_name": "Python 3",
   "language": "python",
   "name": "python3"
  },
  "language_info": {
   "codemirror_mode": {
    "name": "ipython",
    "version": 3
   },
   "file_extension": ".py",
   "mimetype": "text/x-python",
   "name": "python",
   "nbconvert_exporter": "python",
   "pygments_lexer": "ipython3",
   "version": "3.8.3"
  }
 },
 "nbformat": 4,
 "nbformat_minor": 4
}
