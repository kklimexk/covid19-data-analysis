{
 "cells": [
  {
   "cell_type": "markdown",
   "metadata": {},
   "source": [
    "# COVID-19 Data Analysis"
   ]
  },
  {
   "cell_type": "markdown",
   "metadata": {},
   "source": [
    "## COVID-19 Data\n",
    "\n",
    "1. https://github.com/CSSEGISandData/COVID-19\n",
    "2. https://github.com/covid19-eu-zh/covid19-eu-data"
   ]
  },
  {
   "cell_type": "markdown",
   "metadata": {},
   "source": [
    "## Useful resources\n",
    "\n",
    "1. https://coronavirus.jhu.edu/map.html\n",
    "2. https://docs.conda.io/projects/conda/en/latest/_downloads/843d9e0198f2a193a3484886fa28163c/conda-cheatsheet.pdf\n",
    "3. https://pandas.pydata.org/Pandas_Cheat_Sheet.pdf"
   ]
  },
  {
   "cell_type": "markdown",
   "metadata": {},
   "source": [
    "## Install pandas"
   ]
  },
  {
   "cell_type": "code",
   "execution_count": 102,
   "metadata": {},
   "outputs": [],
   "source": [
    "#%pip install --upgrade pandas"
   ]
  },
  {
   "cell_type": "markdown",
   "metadata": {},
   "source": [
    "<img src=\"images/pandas.jpg\" />"
   ]
  },
  {
   "cell_type": "code",
   "execution_count": 103,
   "metadata": {},
   "outputs": [
    {
     "data": {
      "text/plain": [
       "'1.1.4'"
      ]
     },
     "execution_count": 103,
     "metadata": {},
     "output_type": "execute_result"
    }
   ],
   "source": [
    "import pandas as pd\n",
    "pd.__version__"
   ]
  },
  {
   "cell_type": "markdown",
   "metadata": {},
   "source": [
    "## COVID-19 Data Analysis (World / per Country)"
   ]
  },
  {
   "cell_type": "code",
   "execution_count": 104,
   "metadata": {},
   "outputs": [],
   "source": [
    "CONFIRMED = 'https://raw.githubusercontent.com/CSSEGISandData/COVID-19/master/csse_covid_19_data/csse_covid_19_time_series/time_series_covid19_confirmed_global.csv'\n",
    "DEATHS = 'https://raw.githubusercontent.com/CSSEGISandData/COVID-19/master/csse_covid_19_data/csse_covid_19_time_series/time_series_covid19_deaths_global.csv'\n",
    "RECOVERED = 'https://raw.githubusercontent.com/CSSEGISandData/COVID-19/master/csse_covid_19_data/csse_covid_19_time_series/time_series_covid19_recovered_global.csv'"
   ]
  },
  {
   "cell_type": "code",
   "execution_count": 105,
   "metadata": {},
   "outputs": [],
   "source": [
    "confirmed = pd.read_csv(CONFIRMED)\n",
    "deaths = pd.read_csv(DEATHS)\n",
    "recovered = pd.read_csv(RECOVERED)"
   ]
  },
  {
   "cell_type": "code",
   "execution_count": 106,
   "metadata": {},
   "outputs": [
    {
     "data": {
      "text/plain": [
       "(271, 316)"
      ]
     },
     "execution_count": 106,
     "metadata": {},
     "output_type": "execute_result"
    }
   ],
   "source": [
    "confirmed.shape"
   ]
  },
  {
   "cell_type": "code",
   "execution_count": 107,
   "metadata": {},
   "outputs": [
    {
     "data": {
      "text/html": [
       "<div>\n",
       "<style scoped>\n",
       "    .dataframe tbody tr th:only-of-type {\n",
       "        vertical-align: middle;\n",
       "    }\n",
       "\n",
       "    .dataframe tbody tr th {\n",
       "        vertical-align: top;\n",
       "    }\n",
       "\n",
       "    .dataframe thead th {\n",
       "        text-align: right;\n",
       "    }\n",
       "</style>\n",
       "<table border=\"1\" class=\"dataframe\">\n",
       "  <thead>\n",
       "    <tr style=\"text-align: right;\">\n",
       "      <th></th>\n",
       "      <th>Province/State</th>\n",
       "      <th>Country/Region</th>\n",
       "      <th>Lat</th>\n",
       "      <th>Long</th>\n",
       "      <th>1/22/20</th>\n",
       "      <th>1/23/20</th>\n",
       "      <th>1/24/20</th>\n",
       "      <th>1/25/20</th>\n",
       "      <th>1/26/20</th>\n",
       "      <th>1/27/20</th>\n",
       "      <th>...</th>\n",
       "      <th>11/19/20</th>\n",
       "      <th>11/20/20</th>\n",
       "      <th>11/21/20</th>\n",
       "      <th>11/22/20</th>\n",
       "      <th>11/23/20</th>\n",
       "      <th>11/24/20</th>\n",
       "      <th>11/25/20</th>\n",
       "      <th>11/26/20</th>\n",
       "      <th>11/27/20</th>\n",
       "      <th>11/28/20</th>\n",
       "    </tr>\n",
       "  </thead>\n",
       "  <tbody>\n",
       "    <tr>\n",
       "      <th>207</th>\n",
       "      <td>NaN</td>\n",
       "      <td>Poland</td>\n",
       "      <td>51.9194</td>\n",
       "      <td>19.1451</td>\n",
       "      <td>0</td>\n",
       "      <td>0</td>\n",
       "      <td>0</td>\n",
       "      <td>0</td>\n",
       "      <td>0</td>\n",
       "      <td>0</td>\n",
       "      <td>...</td>\n",
       "      <td>796798</td>\n",
       "      <td>819262</td>\n",
       "      <td>843475</td>\n",
       "      <td>861331</td>\n",
       "      <td>876333</td>\n",
       "      <td>909066</td>\n",
       "      <td>924422</td>\n",
       "      <td>941112</td>\n",
       "      <td>958416</td>\n",
       "      <td>973593</td>\n",
       "    </tr>\n",
       "    <tr>\n",
       "      <th>248</th>\n",
       "      <td>NaN</td>\n",
       "      <td>Ukraine</td>\n",
       "      <td>48.3794</td>\n",
       "      <td>31.1656</td>\n",
       "      <td>0</td>\n",
       "      <td>0</td>\n",
       "      <td>0</td>\n",
       "      <td>0</td>\n",
       "      <td>0</td>\n",
       "      <td>0</td>\n",
       "      <td>...</td>\n",
       "      <td>600152</td>\n",
       "      <td>614986</td>\n",
       "      <td>629850</td>\n",
       "      <td>642215</td>\n",
       "      <td>653442</td>\n",
       "      <td>665968</td>\n",
       "      <td>680132</td>\n",
       "      <td>695755</td>\n",
       "      <td>712249</td>\n",
       "      <td>728834</td>\n",
       "    </tr>\n",
       "  </tbody>\n",
       "</table>\n",
       "<p>2 rows × 316 columns</p>\n",
       "</div>"
      ],
      "text/plain": [
       "    Province/State Country/Region      Lat     Long  1/22/20  1/23/20  \\\n",
       "207            NaN         Poland  51.9194  19.1451        0        0   \n",
       "248            NaN        Ukraine  48.3794  31.1656        0        0   \n",
       "\n",
       "     1/24/20  1/25/20  1/26/20  1/27/20  ...  11/19/20  11/20/20  11/21/20  \\\n",
       "207        0        0        0        0  ...    796798    819262    843475   \n",
       "248        0        0        0        0  ...    600152    614986    629850   \n",
       "\n",
       "     11/22/20  11/23/20  11/24/20  11/25/20  11/26/20  11/27/20  11/28/20  \n",
       "207    861331    876333    909066    924422    941112    958416    973593  \n",
       "248    642215    653442    665968    680132    695755    712249    728834  \n",
       "\n",
       "[2 rows x 316 columns]"
      ]
     },
     "execution_count": 107,
     "metadata": {},
     "output_type": "execute_result"
    }
   ],
   "source": [
    "q = (confirmed['Country/Region'] == 'Poland') | (confirmed['Country/Region'] == 'Ukraine')\n",
    "confirmed.loc[q]"
   ]
  },
  {
   "cell_type": "code",
   "execution_count": 108,
   "metadata": {},
   "outputs": [
    {
     "data": {
      "text/html": [
       "<div>\n",
       "<style scoped>\n",
       "    .dataframe tbody tr th:only-of-type {\n",
       "        vertical-align: middle;\n",
       "    }\n",
       "\n",
       "    .dataframe tbody tr th {\n",
       "        vertical-align: top;\n",
       "    }\n",
       "\n",
       "    .dataframe thead th {\n",
       "        text-align: right;\n",
       "    }\n",
       "</style>\n",
       "<table border=\"1\" class=\"dataframe\">\n",
       "  <thead>\n",
       "    <tr style=\"text-align: right;\">\n",
       "      <th></th>\n",
       "      <th>Country/Region</th>\n",
       "      <th>11/28/20</th>\n",
       "    </tr>\n",
       "  </thead>\n",
       "  <tbody>\n",
       "    <tr>\n",
       "      <th>176</th>\n",
       "      <td>US</td>\n",
       "      <td>13244417</td>\n",
       "    </tr>\n",
       "    <tr>\n",
       "      <th>79</th>\n",
       "      <td>India</td>\n",
       "      <td>9392919</td>\n",
       "    </tr>\n",
       "    <tr>\n",
       "      <th>23</th>\n",
       "      <td>Brazil</td>\n",
       "      <td>6290272</td>\n",
       "    </tr>\n",
       "    <tr>\n",
       "      <th>62</th>\n",
       "      <td>France</td>\n",
       "      <td>2260789</td>\n",
       "    </tr>\n",
       "    <tr>\n",
       "      <th>141</th>\n",
       "      <td>Russia</td>\n",
       "      <td>2223500</td>\n",
       "    </tr>\n",
       "  </tbody>\n",
       "</table>\n",
       "</div>"
      ],
      "text/plain": [
       "    Country/Region  11/28/20\n",
       "176             US  13244417\n",
       "79           India   9392919\n",
       "23          Brazil   6290272\n",
       "62          France   2260789\n",
       "141         Russia   2223500"
      ]
     },
     "execution_count": 108,
     "metadata": {},
     "output_type": "execute_result"
    }
   ],
   "source": [
    "confirmed_grouped = confirmed.drop(['Province/State', 'Lat', 'Long'], 1).groupby('Country/Region')\n",
    "recovered_grouped = recovered.drop(['Province/State', 'Lat', 'Long'], 1).groupby('Country/Region')\n",
    "deaths_grouped = deaths.drop(['Province/State', 'Lat', 'Long'], 1).groupby('Country/Region')\n",
    "\n",
    "total_confirmed = confirmed_grouped.sum().iloc[:,[-1]].reset_index()\n",
    "total_recovered = recovered_grouped.sum().iloc[:,[-1]].reset_index()\n",
    "total_deaths = deaths_grouped.sum().iloc[:,[-1]].reset_index()\n",
    "\n",
    "#q2 = last_deaths.iloc[:,[-1]].idxmax()\n",
    "#last_deaths.loc[q2]\n",
    "\n",
    "total_confirmed.sort_values(total_confirmed.columns[-1],ascending=False).head(5)"
   ]
  },
  {
   "cell_type": "code",
   "execution_count": 109,
   "metadata": {},
   "outputs": [],
   "source": [
    "def _covid19_stats_for(country, name, data):\n",
    "    if country:\n",
    "        query = data['Country/Region'] == country\n",
    "        data = data.loc[query]\n",
    "        \n",
    "    data = (data\n",
    "          .transpose()[4:]\n",
    "          .sum(axis='columns')\n",
    "          .map(int))\n",
    "    \n",
    "    return pd.DataFrame(\n",
    "        data = data,\n",
    "        columns = [name],\n",
    "        index = pd.to_datetime(data.index)\n",
    "    )\n",
    "\n",
    "\n",
    "def covid19_stats_for(country=None):\n",
    "    return pd.concat((\n",
    "        _covid19_stats_for(country, 'Confirmed', confirmed),\n",
    "        _covid19_stats_for(country, 'Deaths', deaths),\n",
    "        _covid19_stats_for(country, 'Recovered', recovered)\n",
    "    ), axis='columns')    "
   ]
  },
  {
   "cell_type": "code",
   "execution_count": 110,
   "metadata": {},
   "outputs": [],
   "source": [
    "def death_rate(df):\n",
    "    return (df.tail(1)['Deaths'] / df.tail(1)['Confirmed']) * 100\n",
    "\n",
    "def recovered_rate(df):\n",
    "    return (df.tail(1)['Recovered'] / df.tail(1)['Confirmed']) * 100"
   ]
  },
  {
   "cell_type": "code",
   "execution_count": 111,
   "metadata": {},
   "outputs": [
    {
     "data": {
      "text/html": [
       "<div>\n",
       "<style scoped>\n",
       "    .dataframe tbody tr th:only-of-type {\n",
       "        vertical-align: middle;\n",
       "    }\n",
       "\n",
       "    .dataframe tbody tr th {\n",
       "        vertical-align: top;\n",
       "    }\n",
       "\n",
       "    .dataframe thead th {\n",
       "        text-align: right;\n",
       "    }\n",
       "</style>\n",
       "<table border=\"1\" class=\"dataframe\">\n",
       "  <thead>\n",
       "    <tr style=\"text-align: right;\">\n",
       "      <th></th>\n",
       "      <th>Confirmed</th>\n",
       "      <th>Deaths</th>\n",
       "      <th>Recovered</th>\n",
       "    </tr>\n",
       "  </thead>\n",
       "  <tbody>\n",
       "    <tr>\n",
       "      <th>2020-01-22</th>\n",
       "      <td>0</td>\n",
       "      <td>0</td>\n",
       "      <td>0</td>\n",
       "    </tr>\n",
       "    <tr>\n",
       "      <th>2020-01-23</th>\n",
       "      <td>0</td>\n",
       "      <td>0</td>\n",
       "      <td>0</td>\n",
       "    </tr>\n",
       "    <tr>\n",
       "      <th>2020-01-24</th>\n",
       "      <td>0</td>\n",
       "      <td>0</td>\n",
       "      <td>0</td>\n",
       "    </tr>\n",
       "    <tr>\n",
       "      <th>2020-01-25</th>\n",
       "      <td>0</td>\n",
       "      <td>0</td>\n",
       "      <td>0</td>\n",
       "    </tr>\n",
       "    <tr>\n",
       "      <th>2020-01-26</th>\n",
       "      <td>0</td>\n",
       "      <td>0</td>\n",
       "      <td>0</td>\n",
       "    </tr>\n",
       "    <tr>\n",
       "      <th>...</th>\n",
       "      <td>...</td>\n",
       "      <td>...</td>\n",
       "      <td>...</td>\n",
       "    </tr>\n",
       "    <tr>\n",
       "      <th>2020-11-24</th>\n",
       "      <td>909066</td>\n",
       "      <td>14314</td>\n",
       "      <td>454717</td>\n",
       "    </tr>\n",
       "    <tr>\n",
       "      <th>2020-11-25</th>\n",
       "      <td>924422</td>\n",
       "      <td>14988</td>\n",
       "      <td>469527</td>\n",
       "    </tr>\n",
       "    <tr>\n",
       "      <th>2020-11-26</th>\n",
       "      <td>941112</td>\n",
       "      <td>15568</td>\n",
       "      <td>494869</td>\n",
       "    </tr>\n",
       "    <tr>\n",
       "      <th>2020-11-27</th>\n",
       "      <td>958416</td>\n",
       "      <td>16147</td>\n",
       "      <td>516636</td>\n",
       "    </tr>\n",
       "    <tr>\n",
       "      <th>2020-11-28</th>\n",
       "      <td>973593</td>\n",
       "      <td>16746</td>\n",
       "      <td>538273</td>\n",
       "    </tr>\n",
       "  </tbody>\n",
       "</table>\n",
       "<p>312 rows × 3 columns</p>\n",
       "</div>"
      ],
      "text/plain": [
       "            Confirmed  Deaths  Recovered\n",
       "2020-01-22          0       0          0\n",
       "2020-01-23          0       0          0\n",
       "2020-01-24          0       0          0\n",
       "2020-01-25          0       0          0\n",
       "2020-01-26          0       0          0\n",
       "...               ...     ...        ...\n",
       "2020-11-24     909066   14314     454717\n",
       "2020-11-25     924422   14988     469527\n",
       "2020-11-26     941112   15568     494869\n",
       "2020-11-27     958416   16147     516636\n",
       "2020-11-28     973593   16746     538273\n",
       "\n",
       "[312 rows x 3 columns]"
      ]
     },
     "execution_count": 111,
     "metadata": {},
     "output_type": "execute_result"
    }
   ],
   "source": [
    "df = covid19_stats_for('Poland')\n",
    "#death_rate(df)\n",
    "df"
   ]
  },
  {
   "cell_type": "code",
   "execution_count": 112,
   "metadata": {},
   "outputs": [
    {
     "data": {
      "text/plain": [
       "<matplotlib.axes._subplots.AxesSubplot at 0x7f1b684ccca0>"
      ]
     },
     "execution_count": 112,
     "metadata": {},
     "output_type": "execute_result"
    },
    {
     "data": {
      "image/png": "[encoded data removed]",
      "text/plain": [
       "<Figure size 720x360 with 1 Axes>"
      ]
     },
     "metadata": {
      "needs_background": "light"
     },
     "output_type": "display_data"
    }
   ],
   "source": [
    "df.plot(subplots=False, sharey=True, sharex=True, figsize=(10,5))"
   ]
  },
  {
   "cell_type": "code",
   "execution_count": 113,
   "metadata": {},
   "outputs": [
    {
     "data": {
      "text/plain": [
       "<matplotlib.axes._subplots.AxesSubplot at 0x7f1b74efe1f0>"
      ]
     },
     "execution_count": 113,
     "metadata": {},
     "output_type": "execute_result"
    },
    {
     "data": {
      "image/png": "[encoded data removed]",
      "text/plain": [
       "<Figure size 432x288 with 1 Axes>"
      ]
     },
     "metadata": {
      "needs_background": "light"
     },
     "output_type": "display_data"
    }
   ],
   "source": [
    "c = df['Confirmed']\n",
    "r = df['Recovered']\n",
    "\n",
    "#r.index -= pd.Timedelta(days=20)\n",
    "\n",
    "cr = pd.concat((\n",
    "    c['2020-03-04':],\n",
    "    r['2020-03-04':]\n",
    "), axis='columns')\n",
    "\n",
    "cr.plot()"
   ]
  },
  {
   "cell_type": "code",
   "execution_count": 114,
   "metadata": {},
   "outputs": [],
   "source": [
    "c = c['2020-03-04':]\n",
    "r = r['2020-03-04':]"
   ]
  },
  {
   "cell_type": "code",
   "execution_count": 115,
   "metadata": {},
   "outputs": [
    {
     "data": {
      "text/plain": [
       "<matplotlib.axes._subplots.AxesSubplot at 0x7f1b74ed9790>"
      ]
     },
     "execution_count": 115,
     "metadata": {},
     "output_type": "execute_result"
    },
    {
     "data": {
      "image/png": "[encoded data removed]",
      "text/plain": [
       "<Figure size 720x360 with 1 Axes>"
      ]
     },
     "metadata": {
      "needs_background": "light"
     },
     "output_type": "display_data"
    }
   ],
   "source": [
    "(c / r).plot(figsize=(10,5))"
   ]
  },
  {
   "cell_type": "code",
   "execution_count": 116,
   "metadata": {},
   "outputs": [
    {
     "data": {
      "text/plain": [
       "2.0517528194978922"
      ]
     },
     "execution_count": 116,
     "metadata": {},
     "output_type": "execute_result"
    }
   ],
   "source": [
    "(c/r).median()"
   ]
  },
  {
   "cell_type": "code",
   "execution_count": 117,
   "metadata": {},
   "outputs": [
    {
     "data": {
      "image/png": "[encoded data removed]",
      "text/plain": [
       "<Figure size 432x288 with 1 Axes>"
      ]
     },
     "metadata": {
      "needs_background": "light"
     },
     "output_type": "display_data"
    }
   ],
   "source": [
    "import matplotlib.pyplot as plt\n",
    "import numpy as np\n",
    "\n",
    "x = c[:len(r)]\n",
    "y = r\n",
    "\n",
    "model = np.polyfit(x, y, 1)\n",
    "trend = np.poly1d(model)\n",
    "\n",
    "plt.title('Confirmed, Recovered ratio')\n",
    "plt.plot(x, y, label='data')\n",
    "plt.plot(x, trend(x), color='red', linestyle='--', label='trend')\n",
    "plt.show()"
   ]
  },
  {
   "cell_type": "markdown",
   "metadata": {},
   "source": [
    "## Linear Regression (Supervised Learning algorithm)"
   ]
  },
  {
   "cell_type": "markdown",
   "metadata": {},
   "source": [
    "Goal: Find the best line fit\n",
    "\n",
    "**y = a*x + b**\n",
    "\n",
    "- **a**: slope. Meaning how much the y value increases for each x value.\n",
    "- **b**: y intercept. Where the line crosses the y axis.\n",
    "- **x**: feature\n",
    "- **y**: label\n",
    "\n",
    "a = (y2 - y1) / (x2 - x1)"
   ]
  },
  {
   "cell_type": "markdown",
   "metadata": {},
   "source": [
    "<img src=\"images/linear_regression.png\" />"
   ]
  },
  {
   "cell_type": "markdown",
   "metadata": {},
   "source": [
    "## COVID-19 Number of deaths prediction based on number of confirmed cases"
   ]
  },
  {
   "cell_type": "code",
   "execution_count": 134,
   "metadata": {},
   "outputs": [],
   "source": [
    "train_df = df['2020-03-04':'2020-08-01'].rename_axis('Date').reset_index()\n",
    "test_df = df['2020-08-02':].rename_axis('Date').reset_index()\n",
    "\n",
    "x_train = train_df[[\"Confirmed\"]]\n",
    "y_train = train_df[\"Deaths\"]\n",
    "\n",
    "x_test = test_df[[\"Confirmed\"]]\n",
    "y_test = test_df[\"Deaths\"]"
   ]
  },
  {
   "cell_type": "code",
   "execution_count": 140,
   "metadata": {},
   "outputs": [
    {
     "name": "stdout",
     "output_type": "stream",
     "text": [
      "Accuracy: \n",
      " -4.911392988500042\n",
      "Coefficient(a): \n",
      " [0.04112983]\n",
      "Intercept(b): \n",
      " 26.064105895494663\n",
      "y = 0.0411*confirmed_cases + (26.0641)\n"
     ]
    }
   ],
   "source": [
    "from sklearn.linear_model import LinearRegression\n",
    "\n",
    "lr = LinearRegression().fit(x_train, y_train)\n",
    "acc = lr.score(x_test, y_test)\n",
    "print('Accuracy: \\n', acc)\n",
    "\n",
    "print('Coefficient(a): \\n', lr.coef_)\n",
    "print('Intercept(b): \\n', lr.intercept_)\n",
    "\n",
    "print(f\"y = {lr.coef_[0]:.4f}*confirmed_cases + ({lr.intercept_:.4f})\")"
   ]
  },
  {
   "cell_type": "code",
   "execution_count": 139,
   "metadata": {},
   "outputs": [
    {
     "name": "stdout",
     "output_type": "stream",
     "text": [
      "Accuracy: \n",
      " -5.295447042665337\n",
      "Coefficient(a): \n",
      " [0.04198909]\n",
      "Intercept(b): \n",
      " 0.0\n",
      "y = 0.0420*confirmed_cases\n"
     ]
    }
   ],
   "source": [
    "lr = LinearRegression(fit_intercept=False).fit(x_train, y_train)\n",
    "acc = lr.score(x_test, y_test)\n",
    "print('Accuracy: \\n', acc)\n",
    "\n",
    "print('Coefficient(a): \\n', lr.coef_)\n",
    "print('Intercept(b): \\n', lr.intercept_)\n",
    "\n",
    "print(f\"y = {lr.coef_[0]:.4f}*confirmed_cases\")"
   ]
  },
  {
   "cell_type": "code",
   "execution_count": 137,
   "metadata": {},
   "outputs": [
    {
     "data": {
      "text/html": [
       "<div>\n",
       "<style scoped>\n",
       "    .dataframe tbody tr th:only-of-type {\n",
       "        vertical-align: middle;\n",
       "    }\n",
       "\n",
       "    .dataframe tbody tr th {\n",
       "        vertical-align: top;\n",
       "    }\n",
       "\n",
       "    .dataframe thead th {\n",
       "        text-align: right;\n",
       "    }\n",
       "</style>\n",
       "<table border=\"1\" class=\"dataframe\">\n",
       "  <thead>\n",
       "    <tr style=\"text-align: right;\">\n",
       "      <th></th>\n",
       "      <th>Confirmed</th>\n",
       "      <th>Deaths</th>\n",
       "      <th>Recovered</th>\n",
       "      <th>Predicted Deaths</th>\n",
       "    </tr>\n",
       "    <tr>\n",
       "      <th>Date</th>\n",
       "      <th></th>\n",
       "      <th></th>\n",
       "      <th></th>\n",
       "      <th></th>\n",
       "    </tr>\n",
       "  </thead>\n",
       "  <tbody>\n",
       "    <tr>\n",
       "      <th>2020-08-02</th>\n",
       "      <td>46894</td>\n",
       "      <td>1731</td>\n",
       "      <td>34709</td>\n",
       "      <td>1954.806330</td>\n",
       "    </tr>\n",
       "    <tr>\n",
       "      <th>2020-08-03</th>\n",
       "      <td>47469</td>\n",
       "      <td>1732</td>\n",
       "      <td>34881</td>\n",
       "      <td>1978.455982</td>\n",
       "    </tr>\n",
       "    <tr>\n",
       "      <th>2020-08-04</th>\n",
       "      <td>48149</td>\n",
       "      <td>1738</td>\n",
       "      <td>35056</td>\n",
       "      <td>2006.424266</td>\n",
       "    </tr>\n",
       "    <tr>\n",
       "      <th>2020-08-05</th>\n",
       "      <td>48789</td>\n",
       "      <td>1756</td>\n",
       "      <td>35321</td>\n",
       "      <td>2032.747357</td>\n",
       "    </tr>\n",
       "    <tr>\n",
       "      <th>2020-08-06</th>\n",
       "      <td>49515</td>\n",
       "      <td>1774</td>\n",
       "      <td>35642</td>\n",
       "      <td>2062.607613</td>\n",
       "    </tr>\n",
       "    <tr>\n",
       "      <th>...</th>\n",
       "      <td>...</td>\n",
       "      <td>...</td>\n",
       "      <td>...</td>\n",
       "      <td>...</td>\n",
       "    </tr>\n",
       "    <tr>\n",
       "      <th>2020-11-24</th>\n",
       "      <td>909066</td>\n",
       "      <td>14314</td>\n",
       "      <td>454717</td>\n",
       "      <td>37415.793676</td>\n",
       "    </tr>\n",
       "    <tr>\n",
       "      <th>2020-11-25</th>\n",
       "      <td>924422</td>\n",
       "      <td>14988</td>\n",
       "      <td>469527</td>\n",
       "      <td>38047.383338</td>\n",
       "    </tr>\n",
       "    <tr>\n",
       "      <th>2020-11-26</th>\n",
       "      <td>941112</td>\n",
       "      <td>15568</td>\n",
       "      <td>494869</td>\n",
       "      <td>38733.840192</td>\n",
       "    </tr>\n",
       "    <tr>\n",
       "      <th>2020-11-27</th>\n",
       "      <td>958416</td>\n",
       "      <td>16147</td>\n",
       "      <td>516636</td>\n",
       "      <td>39445.550761</td>\n",
       "    </tr>\n",
       "    <tr>\n",
       "      <th>2020-11-28</th>\n",
       "      <td>973593</td>\n",
       "      <td>16746</td>\n",
       "      <td>538273</td>\n",
       "      <td>40069.778184</td>\n",
       "    </tr>\n",
       "  </tbody>\n",
       "</table>\n",
       "<p>119 rows × 4 columns</p>\n",
       "</div>"
      ],
      "text/plain": [
       "            Confirmed  Deaths  Recovered  Predicted Deaths\n",
       "Date                                                      \n",
       "2020-08-02      46894    1731      34709       1954.806330\n",
       "2020-08-03      47469    1732      34881       1978.455982\n",
       "2020-08-04      48149    1738      35056       2006.424266\n",
       "2020-08-05      48789    1756      35321       2032.747357\n",
       "2020-08-06      49515    1774      35642       2062.607613\n",
       "...               ...     ...        ...               ...\n",
       "2020-11-24     909066   14314     454717      37415.793676\n",
       "2020-11-25     924422   14988     469527      38047.383338\n",
       "2020-11-26     941112   15568     494869      38733.840192\n",
       "2020-11-27     958416   16147     516636      39445.550761\n",
       "2020-11-28     973593   16746     538273      40069.778184\n",
       "\n",
       "[119 rows x 4 columns]"
      ]
     },
     "execution_count": 137,
     "metadata": {},
     "output_type": "execute_result"
    }
   ],
   "source": [
    "y_pred = lr.predict(x_test)\n",
    "\n",
    "predictions = pd.concat([test_df, pd.DataFrame(y_pred, columns=[\"Predicted Deaths\"])], axis=1)\n",
    "predictions = predictions.set_index(\"Date\")\n",
    "predictions"
   ]
  },
  {
   "cell_type": "code",
   "execution_count": 141,
   "metadata": {},
   "outputs": [
    {
     "data": {
      "text/plain": [
       "<matplotlib.axes._subplots.AxesSubplot at 0x7f1b67f7bf40>"
      ]
     },
     "execution_count": 141,
     "metadata": {},
     "output_type": "execute_result"
    },
    {
     "data": {
      "image/png": "[encoded data removed]",
      "text/plain": [
       "<Figure size 720x360 with 1 Axes>"
      ]
     },
     "metadata": {
      "needs_background": "light"
     },
     "output_type": "display_data"
    }
   ],
   "source": [
    "predictions[['Deaths', 'Predicted Deaths']].plot(figsize=(10,5))"
   ]
  }
 ],
 "metadata": {
  "kernelspec": {
   "display_name": "Python 3",
   "language": "python",
   "name": "python3"
  },
  "language_info": {
   "codemirror_mode": {
    "name": "ipython",
    "version": 3
   },
   "file_extension": ".py",
   "mimetype": "text/x-python",
   "name": "python",
   "nbconvert_exporter": "python",
   "pygments_lexer": "ipython3",
   "version": "3.8.3"
  }
 },
 "nbformat": 4,
 "nbformat_minor": 4
}
